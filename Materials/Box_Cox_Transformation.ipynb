{
  "nbformat": 4,
  "nbformat_minor": 0,
  "metadata": {
    "colab": {
      "name": "Box_Cox_Transformation.ipynb",
      "provenance": [],
      "collapsed_sections": [
        "5LyB6CbyWdJW"
      ],
      "include_colab_link": true
    },
    "kernelspec": {
      "name": "python3",
      "display_name": "Python 3"
    },
    "language_info": {
      "name": "python"
    }
  },
  "cells": [
    {
      "cell_type": "markdown",
      "metadata": {
        "id": "view-in-github",
        "colab_type": "text"
      },
      "source": [
        "<a href=\"https://colab.research.google.com/github/YenLinWu/Time_Series_Model/blob/main/Materials/Box_Cox_Transformation.ipynb\" target=\"_parent\"><img src=\"https://colab.research.google.com/assets/colab-badge.svg\" alt=\"Open In Colab\"/></a>"
      ]
    },
    {
      "cell_type": "markdown",
      "metadata": {
        "id": "5LyB6CbyWdJW"
      },
      "source": [
        "# Box-Cox Transformation  \n",
        "\n",
        "Normality is an important assumption for many statistical techniques. <font color=\"#dddd00\">A</font> <font color=\"#00dd00\">**Box-Cox transformation**</font> <font color=\"#dddd00\">is a transformation of non-normal dependent variables into a normal shape</font>, which depends on the parameter $\\lambda$ and is defined as follow : \n",
        "\n",
        "\\begin{equation}\n",
        "w_t=\n",
        "\\begin{cases}\n",
        "      \\displaystyle \\ln(y_t) \\text{ if } \\lambda=0 \\text{ , } \\\\\n",
        "      \\displaystyle \\frac{(y_t^\\lambda-1)}{\\lambda} \\text{ otherwise.}\n",
        "\\end{cases}\n",
        "\\end{equation}"
      ]
    },
    {
      "cell_type": "markdown",
      "metadata": {
        "id": "nw_yOwzwvGBj"
      },
      "source": [
        "* For all $\\lambda \\neq 1$, the time series will change shape.\n",
        "\n",
        "* If $\\lambda=0$, natural logarithms are used.  \n",
        "\n",
        "* If $\\lambda=1$, then $w_t=y_t-1$, so the transformed data is shifted downwards but there is no change in the shape of the time series.   \n",
        "\n",
        "* Having chosen a transformation, we need to forecast the transformed data. <font color=\"#dddd00\">Then, we need to reverse the transformation (or back-transform) to obtain forecasts on the original scale.</font>\n",
        "\n",
        "* Features of power transformations  \n",
        "  * <font color=\"#dddd00\">Often no transformation is needed.</font>\n",
        "  * The forecasting results are relatively insensitive(感覺遲鈍的) to the value of $\\lambda$.  \n",
        "  * <font color=\"#dddd00\">Transformations sometimes make little difference to the forecasts but **have a large effect on prediction intervals**.</font>  \n",
        "\n",
        "Reference : [Mathematical transformations](https://otexts.com/fpp2/transformations.html#mathematical-transformations)\n",
        "\n"
      ]
    }
  ]
}