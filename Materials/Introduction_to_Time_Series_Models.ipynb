{
  "nbformat": 4,
  "nbformat_minor": 0,
  "metadata": {
    "colab": {
      "name": "Introduction_to_Time_Series_Models.ipynb",
      "provenance": [],
      "collapsed_sections": [
        "X1L6VDN6yjKn",
        "Ys-dv4WNyjR-",
        "7QVH7mqayjUy"
      ],
      "toc_visible": true,
      "include_colab_link": true
    },
    "kernelspec": {
      "name": "python3",
      "display_name": "Python 3"
    },
    "language_info": {
      "name": "python"
    }
  },
  "cells": [
    {
      "cell_type": "markdown",
      "metadata": {
        "id": "view-in-github",
        "colab_type": "text"
      },
      "source": [
        "<a href=\"https://colab.research.google.com/github/YenLinWu/Time_Series_Model/blob/main/Materials/Introduction_to_Time_Series_Models.ipynb\" target=\"_parent\"><img src=\"https://colab.research.google.com/assets/colab-badge.svg\" alt=\"Open In Colab\"/></a>"
      ]
    },
    {
      "cell_type": "markdown",
      "metadata": {
        "id": "5LyB6CbyWdJW"
      },
      "source": [
        "# Introduction to Time Series Models"
      ]
    },
    {
      "cell_type": "markdown",
      "metadata": {
        "id": "X1L6VDN6yjKn"
      },
      "source": [
        "# <font color=\"#00dd00\">**Autoregressive (AR) Models**</font> "
      ]
    },
    {
      "cell_type": "markdown",
      "metadata": {
        "id": "esI6u3lbyjPL"
      },
      "source": [
        "$$ y_t = \\beta + \\epsilon_t + \\sum_{i=1}^{p} \\phi_i y_{t-i} $$  \n",
        "where $\\beta$ is a constant, $\\epsilon_t$ is the white noise at time t, and $p$ is the number of time lags to regress on. We refer to this as an AR($p$) model, an autoregressive model of order $p$.     \n",
        "\n",
        "* Forecast the variable of interest using a linear combination of past values of the variable.  \n",
        "* The term \"Autoregression\" indicates that it is a regression of the variable against itself.    \n",
        "* We normally restrict autoregressive models to <font color=\"#00dd00\">**stationary data**</font>, in which case some constraints on the values of the parameters are required.   \n",
        "  * AR($1$) : $-1< \\phi_1 < 1$.\n",
        "  * AR($2$) : $-1< \\phi_2 < 1$, $\\phi_1+\\phi_2 < 1$, $\\phi_2-\\phi_1 < 1$.   \n",
        "\n",
        "Reference : [Autoregressive models](https://otexts.com/fpp2/AR.html#AR)"
      ]
    },
    {
      "cell_type": "markdown",
      "metadata": {
        "id": "Ys-dv4WNyjR-"
      },
      "source": [
        "# <font color=\"#00dd00\">**Moving average (MA) Models**</font>   \n"
      ]
    },
    {
      "cell_type": "markdown",
      "metadata": {
        "id": "awhIkUPKG6fi"
      },
      "source": [
        "$$ y_t = \\beta + \\epsilon_t + \\sum_{i=1}^{q} \\theta_i \\epsilon_{t-i} $$   \n",
        "where $\\beta$ is a constant, $\\epsilon_t$ is the white noise at time t, and $q$ is the number of time lags of the error term to regress on. We refer to this as an MA($q$) model, a moving average model of order $q$. \n",
        "* Each value of $y_t$ can be thought of as a weighted moving average of the past few forecast errors.   \n",
        "* It is possible to write any stationary AR($p$) model as an MA($\\infty$) model. For example, AR($1$) model  \n",
        "\\begin{equation}  \n",
        "\\begin{split}\n",
        "  y_t &= \\epsilon_t + \\phi_1 y_{t-1} \\\\\n",
        "      &= \\epsilon_t + \\phi_1 (\\epsilon_{t-1} + \\phi_1 y_{t-2}) \\\\ \n",
        "      &= \\epsilon_t + \\phi_1^2 y_{t-2} + \\phi_1 \\epsilon_{t-1} \\\\ \n",
        "      &= \\epsilon_t + \\phi_1^3 y_{t-3} + \\phi_1^2 y_{t-2} + \\phi_1 \\epsilon_{t-1} \\\\ \n",
        "      &= \\text{...... ,} \\\\   \\\\\n",
        "\\end{split}\n",
        "\\end{equation} \n",
        "if $|\\phi_1|<1$, then we obtain MA($\\infty$)\n",
        "$$y_t=\\epsilon_t+\\phi_1 \\epsilon_{t-1}+\\phi_1^2 \\epsilon_{t-2} + \\phi_1^3 \\epsilon_{t_3} + \\dots \\text{ .}$$    \n",
        "* On the other hand, if we impose some constraints on the MA parameters (MA model is called **invertible**), we can write any invertible MA($q$) process as an AR($\\infty$) process. \n",
        "\n",
        "Reference : [Moving average models](https://otexts.com/fpp2/MA.html#MA)"
      ]
    },
    {
      "cell_type": "markdown",
      "metadata": {
        "id": "7QVH7mqayjUy"
      },
      "source": [
        "# <font color=\"#00dd00\">**Non-seasonal ARIMA models**</font>"
      ]
    },
    {
      "cell_type": "markdown",
      "metadata": {
        "id": "bASyte0hHp3V"
      },
      "source": [
        "ARIMA is an acronym for AutoRegressive Integrated Moving Average.  \n",
        "$$y_{t}^{'} = \\beta+\\phi_1 y_{t-1}^{'}+\\dots+\\phi_p y_{t-p}^{'}+\\theta_1 \\epsilon_{t-1}+\\dots+\\theta_p \\epsilon_{t-q}+\\epsilon_{t} $$  \n",
        "where $y_t^{'}$ is the differenced series (it may have been differenced more than once). We call this an ARIMA($p$, $d$, $q$) model, where $p$ is the order of the autoregressive part, $d$ is the degree of first differencing involved, and $q$ is the order of the moving average part.\n",
        "\n",
        "* The same stationarity and invertibility conditions that are used for autoregressive and moving average models also apply to an ARIMA model.  \n",
        "* The constant $\\beta$ has an important effect on the long-term forecasts obtained from these models.  \n",
        "  * if $\\beta=0$ and $d=0$, the long-term forecasts will go to zero. \n",
        "  * if $\\beta=0$ and $d=1$, the long-term forecasts will go to a non-zero constant.  \n",
        "  * if $\\beta=0$ and $d=2$, the long-term forecasts will follow a straight line.  \n",
        "  * if $\\beta\\neq0$ and $d=0$, the long-term forecasts will go to the mean of the data.  \n",
        "  * if $\\beta\\neq0$ and $d=1$, the long-term forecasts will follow a straight line.  \n",
        "  * if $\\beta\\neq0$ and $d=2$, the long-term forecasts will follow a quadratic trend.   \n",
        "* <font color=\"#dddd00\">The value of $d$ also has an effect on the prediction intervals</font> — the higher the value of $d$, the more rapidly the prediction intervals increase in size.   \n",
        "* <font color=\"#dddd00\">The value of $p$ is important if the data show cycles.</font> To obtain cyclic forecasts, it is necessary to have $p\\geq2$, along with some additional conditions on the parameters.  \n",
        "* It is sometimes possible to use the <font color=\"#00dd00\">**ACF**</font> plot, and the closely related <font color=\"#00dd00\">**PACF**</font> plot, to determine appropriate values for $p$ and $q$.  \n",
        "\n",
        "Reference : [Non-seasonal ARIMA models](https://otexts.com/fpp2/non-seasonal-arima.html#non-seasonal-arima)\n",
        "  "
      ]
    },
    {
      "cell_type": "markdown",
      "metadata": {
        "id": "HzVxxvoUHQDD"
      },
      "source": [
        "# <font color=\"#00dd00\">**SARIMA Models**</font>  "
      ]
    },
    {
      "cell_type": "markdown",
      "metadata": {
        "id": "AZCS2FWrHpjb"
      },
      "source": [
        "SARIMAX (Seasonal Auto-Regressive Integrated Moving Average with eXogenous factors) is an updated version of the ARIMA model. <font color=\"#dddd00\">SARIMAX includes **seasonal effects** (季節效應) and **eXogenous factors** (外部因素) with the autoregressive and moving average component in the model.</font> SARIMA models take seasonality into account by essentially applying an ARIMA model to lags that are integer multiples of seasonality. Once the seasonality is modelled, an ARIMA model is applied to the leftover to capture non-seasonal structure. One shorthand notation for SARIMA models is: \n",
        "$$ \\text{SARIMA( }p, d, q\\text{ )}\\times\\text{( }P, D, Q, S\\text{ )}$$\n",
        "where $p$ is the order of the non-seasonal AR part,   \n",
        "&emsp;&emsp;&ensp; $d$ is the non-seasonal differencing,   \n",
        "&emsp;&emsp;&ensp; $q$ is the order of the non-seasonal MA part,   \n",
        "&emsp;&emsp;&ensp; $P$ is the order of the seasonal AR part,   \n",
        "&emsp;&emsp;&ensp; $D$ is the seasonal differencing,   \n",
        "&emsp;&emsp;&ensp; $Q$ is the order of the seasonal MA part, and   \n",
        "&emsp;&emsp;&ensp; $S$ is the length of repeating seasonal pattern."
      ]
    }
  ]
}