{
  "nbformat": 4,
  "nbformat_minor": 0,
  "metadata": {
    "colab": {
      "name": "Order_Selection_of_ARIMA_Model.ipynb",
      "provenance": [],
      "collapsed_sections": [
        "qv3POedCyP1W",
        "HF055aY-4Cfw"
      ],
      "toc_visible": true,
      "include_colab_link": true
    },
    "kernelspec": {
      "name": "python3",
      "display_name": "Python 3"
    },
    "language_info": {
      "name": "python"
    }
  },
  "cells": [
    {
      "cell_type": "markdown",
      "metadata": {
        "id": "view-in-github",
        "colab_type": "text"
      },
      "source": [
        "<a href=\"https://colab.research.google.com/github/YenLinWu/Time_Series_Model/blob/main/Materials/Order_Selection_of_ARIMA_Model.ipynb\" target=\"_parent\"><img src=\"https://colab.research.google.com/assets/colab-badge.svg\" alt=\"Open In Colab\"/></a>"
      ]
    },
    {
      "cell_type": "markdown",
      "metadata": {
        "id": "5LyB6CbyWdJW"
      },
      "source": [
        "# Order Selection of ARIMA Model \n",
        "\n",
        "ARIMA is an acronym for AutoRegressive Integrated Moving Average.   \n",
        "   \n",
        "$$y_{t}^{'} = \\beta+\\phi_1 y_{t-1}^{'}+\\dots+\\phi_p y_{t-p}^{'}+\\theta_1 \\epsilon_{t-1}+\\dots+\\theta_p \\epsilon_{t-q}+\\epsilon_{t} $$  \n",
        "where $y_t^{'}$ is the differenced series (it may have been differenced more than once). "
      ]
    },
    {
      "cell_type": "markdown",
      "metadata": {
        "id": "qv3POedCyP1W"
      },
      "source": [
        "# <font color=\"#00dd00\">**Akaike’s Information Criterion, AIC**</font> (赤池資訊準則)   \n",
        "\n",
        "**AIC**, which was useful in selecting predictors for regression, is also useful for determining the order of an ARIMA model.   \n",
        "註 : AIC 為評估統計模型的複雜度及衡量統計模型擬合資料之優良性(Goodness of Fit)的一種標準。"
      ]
    },
    {
      "cell_type": "markdown",
      "metadata": {
        "id": "IC4OZ0kUyS0a"
      },
      "source": [
        "* AIC can be termed as a mesaure of the goodness of fit of any estimated statistical model.  \n",
        "\n",
        "* AIC can be written as \n",
        "$$\\text{AIC} = -2\\log(L)+2(p+q+k+1) \\text{ , }$$   \n",
        "where $L$ is the likelihood of the data, $k=1$ if $\\beta\\neq0$ and $k=0$ if $\\beta=0$.  \n",
        "\n",
        "* For ARIMA models, the corrected AIC can be written as    \n",
        "$$\\text{AIC}_c = \\text{AIC}+\\frac{2(p+q+k+1)(p+q+k+2)}{(T-p-q-k-2)} \\text{ . }$$   \n",
        "\n",
        "Reference : [Information Criteria](https://otexts.com/fpp2/arima-estimation.html#information-criteria)"
      ]
    },
    {
      "cell_type": "markdown",
      "metadata": {
        "id": "HF055aY-4Cfw"
      },
      "source": [
        "# <font color=\"#00dd00\">**Bayesian Information Criterion, BIC**</font> (貝葉斯資訊準則)   \n",
        "\n",
        "**BIC** is another widely used in model selection criteria.  "
      ]
    },
    {
      "cell_type": "markdown",
      "metadata": {
        "id": "zk6aLN-44Coc"
      },
      "source": [
        "* BIC is a type of model selection among a class of parametric models with different numbers of parameters.  \n",
        "\n",
        "* For ARIMA models, the BIC can be written as    \n",
        "$$\\text{BIC} = \\text{AIC}+\\big(\\log(T)-2 \\big)(p+q+k+1) \\text{ . }$$\n",
        "\n",
        "* When comparing the BIC and the AIC, penalty for additional parameters is more in BIC than AIC.  \n",
        "\n",
        "Reference : [Information Criteria](https://otexts.com/fpp2/arima-estimation.html#information-criteria)"
      ]
    },
    {
      "cell_type": "markdown",
      "metadata": {
        "id": "kZyTP90h6VaV"
      },
      "source": [
        "# **Order Selection**   \n",
        "\n",
        "1.   <font color=\"#dddd00\">Good models are obtained by **minimising** the AIC, AICc or BIC.</font>  \n",
        "2.   It is important to note that <font color=\"#dddd00\">these information criteria</font> tend not to be good guides to selecting the appropriate order of differencing ($d$) of a model, but <font color=\"#dddd00\">only for selecting the values of $p$ and $q$</font>.\n",
        "\n",
        "\n",
        "\n",
        "\n",
        "\n"
      ]
    },
    {
      "cell_type": "markdown",
      "metadata": {
        "id": "9NWX4_2n5dDE"
      },
      "source": [
        "# Notes  \n",
        "\n",
        "1. AIC generally tries to find unknown model that has high dimensional reality. On the other hand, BIC comes across only True models.   \n",
        "註 : AIC 從預測的角度，選擇一個適當的模型來進行預測；BIC 則是從擬合的角度，選擇一個對現有數據集擬合最佳的模型。  \n",
        "   \n",
        "2. AIC is good for making asymptotically equivalent to cross-validation. On the contrary, BIC is good for consistent estimation.   \n",
        "\n",
        "3. Unlike the AIC, the BIC penalizes free parameters more strongly.  \n",
        "註 : 當資料量越大時，因導致 BIC 較 AIC 對模型有更大的的懲罰項，故 BIC 更傾向選擇參數較少的模型。\n",
        "\n"
      ]
    }
  ]
}